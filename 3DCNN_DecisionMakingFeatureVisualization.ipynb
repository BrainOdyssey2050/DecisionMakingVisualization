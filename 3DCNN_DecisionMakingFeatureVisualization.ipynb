{
 "cells": [
  {
   "cell_type": "code",
   "execution_count": 1,
   "metadata": {},
   "outputs": [],
   "source": [
    "import numpy as np\n",
    "import torch\n",
    "import torch.nn as nn\n",
    "import torch.nn.functional as F\n",
    "from torch.autograd import Variable\n",
    "import torch.optim as optim\n",
    "import torchvision.transforms as transforms\n",
    "import torchvision.datasets as datasets\n",
    "import torchvision.models as models\n",
    "import os\n",
    "from PIL import Image\n",
    "import copy\n",
    "import scipy.io\n",
    "\n",
    "import os         \n",
    "os.sys.path.insert(0, '/home/dwang/Projects/MotorImagery_3D/BrainDecode_Library/models')"
   ]
  },
  {
   "cell_type": "code",
   "execution_count": 2,
   "metadata": {},
   "outputs": [],
   "source": [
    "# 来得出每个test参与者的平均heatmap\n",
    "Test_participant_Num = 66 # 65 ~74"
   ]
  },
  {
   "cell_type": "markdown",
   "metadata": {},
   "source": [
    "# 1. Load Pretrained Model"
   ]
  },
  {
   "cell_type": "code",
   "execution_count": 3,
   "metadata": {},
   "outputs": [],
   "source": [
    "from deep4_3D_3 import MotioNet_3D\n",
    "\n",
    "model = MotioNet_3D().create_network()"
   ]
  },
  {
   "cell_type": "markdown",
   "metadata": {},
   "source": [
    "- As shown above, we instantiate an MotioNet object and use it as a 'container'. It is a framework which can be used to 'contain' the trained params.\n",
    "- As I said, the instantiated object is only a framework. It has all the hyperparams which are used to define the network. But it doesn't have any trained params.\n",
    "- So we use the command below to load the trained params."
   ]
  },
  {
   "cell_type": "code",
   "execution_count": 4,
   "metadata": {},
   "outputs": [
    {
     "data": {
      "text/plain": [
       "Sequential(\n",
       "  (dimshuffle): Expression(expression=<lambda>)\n",
       "  (To_3D): Expression(expression=<lambda>)\n",
       "  (Conv3D_1_1): Conv3d (1, 10, kernel_size=(5, 2, 2), stride=(1, 1, 1), bias=False)\n",
       "  (Bnorm3D_1_1): BatchNorm3d(10, eps=1e-05, momentum=0.1, affine=True)\n",
       "  (3D_nonlin_1_1): Expression(expression=elu)\n",
       "  (Conv3D_1_2): Conv3d (10, 20, kernel_size=(10, 2, 2), stride=(1, 1, 1), bias=False)\n",
       "  (Bnorm3D_1_2): BatchNorm3d(20, eps=1e-05, momentum=0.1, affine=True)\n",
       "  (3D_nonlin_1_2): Expression(expression=elu)\n",
       "  (Conv3D_1_3): Conv3d (20, 30, kernel_size=(1, 3, 7), stride=(1, 1, 1), bias=False)\n",
       "  (Bnorm3D_1_3): BatchNorm3d(30, eps=1e-05, momentum=0.1, affine=True)\n",
       "  (3D_nonlin_1_3): Expression(expression=elu)\n",
       "  (squeeze_1): Expression(expression=squeeze_layer1_output)\n",
       "  (pool): MaxPool2d(kernel_size=(3, 1), stride=(1, 1), dilation=(1, 1))\n",
       "  (pool_nonlin): Expression(expression=identity)\n",
       "  (drop_2): Dropout(p=0.5)\n",
       "  (conv_2): Conv2d (30, 50, kernel_size=(10, 1), stride=(1, 1), dilation=(2, 1), bias=False)\n",
       "  (bnorm_2): BatchNorm2d(50, eps=1e-05, momentum=0.1, affine=True)\n",
       "  (nonlin_2): Expression(expression=elu)\n",
       "  (pool_2): MaxPool2d(kernel_size=(3, 1), stride=(1, 1), dilation=(2, 1))\n",
       "  (pool_nonlin_2): Expression(expression=identity)\n",
       "  (drop_3): Dropout(p=0.5)\n",
       "  (conv_3): Conv2d (50, 100, kernel_size=(5, 1), stride=(1, 1), dilation=(4, 1), bias=False)\n",
       "  (bnorm_3): BatchNorm2d(100, eps=1e-05, momentum=0.1, affine=True)\n",
       "  (nonlin_3): Expression(expression=elu)\n",
       "  (pool_3): MaxPool2d(kernel_size=(3, 1), stride=(1, 1), dilation=(4, 1))\n",
       "  (pool_nonlin_3): Expression(expression=identity)\n",
       "  (drop_4): Dropout(p=0.5)\n",
       "  (conv_4): Conv2d (100, 200, kernel_size=(5, 1), stride=(1, 1), dilation=(8, 1), bias=False)\n",
       "  (bnorm_4): BatchNorm2d(200, eps=1e-05, momentum=0.1, affine=True)\n",
       "  (nonlin_4): Expression(expression=elu)\n",
       "  (pool_4): MaxPool2d(kernel_size=(3, 1), stride=(1, 1), dilation=(8, 1))\n",
       "  (pool_nonlin_4): Expression(expression=identity)\n",
       "  (conv_classifier): Conv2d (200, 2, kernel_size=(1, 1), stride=(1, 1), dilation=(16, 1))\n",
       "  (softmax): LogSoftmax()\n",
       "  (squeeze): Expression(expression=squeeze_output)\n",
       ")"
      ]
     },
     "execution_count": 4,
     "metadata": {},
     "output_type": "execute_result"
    }
   ],
   "source": [
    "model.load_state_dict(torch.load('Trained_Motion_Detection_3DCNN'))\n",
    "\n",
    "model.eval()\n",
    "#  when you load the model back again via state_dict method, remember to do MyModel.eval(), \n",
    "# otherwise the results will differ. \n",
    "#  https://discuss.pytorch.org/t/saving-and-loading-a-model-in-pytorch/2610/12\n",
    "\n",
    "# since we only need to feed the test dataset to the model, so I think model.eval should be fine."
   ]
  },
  {
   "cell_type": "code",
   "execution_count": 6,
   "metadata": {},
   "outputs": [],
   "source": [
    "model.softmax.dim=1"
   ]
  },
  {
   "cell_type": "markdown",
   "metadata": {},
   "source": [
    "# 2. Redefine Network Module Classes with RelProp"
   ]
  },
  {
   "cell_type": "markdown",
   "metadata": {},
   "source": [
    "## 2.1 Convolution Layer"
   ]
  },
  {
   "cell_type": "markdown",
   "metadata": {},
   "source": [
    "<img src=\"Figures_for_Notebook\\EEG_LRP_Paper.png\">"
   ]
  },
  {
   "cell_type": "markdown",
   "metadata": {},
   "source": [
    "- W doesn't have to be positive.\n",
    "- Z has the chance to be negative, so does the relevance.\n",
    "- negative relevance can be projected to the input space.  \n",
    "  \n",
    "Additional Comments:  \n",
    "- Without the limitation that W has to be positive, the system makes more sense. Because the sum of positive Z+ in layer L is not the real 'impact' to the next neuron. To consider the real impact to the next neuron, we need to sum all the Z in layer L, no matter whether it is positive or not.\n",
    "  \n",
    "- For negative Z-, it means the corresponding neuron makes contribution (object the decision).\n",
    "  \n",
    "- If the total contribution is 46(STAI), then... ,  for a neuron in layer L+1, R=12. It needs to distribute R to neurons in Layer l, according to the 'contritbuion rates' of neurons, e.g., 80%, 35%, -15%. -15% means the nueron's feature tries to 'drag down' the STAI score. It is an anti-anxiety evidence. \n",
    "\n",
    "- So, we can interpret LRP values as positive related or negative related."
   ]
  },
  {
   "cell_type": "markdown",
   "metadata": {},
   "source": [
    "### 2.1.1 Convolution 2-D "
   ]
  },
  {
   "cell_type": "code",
   "execution_count": 7,
   "metadata": {},
   "outputs": [],
   "source": [
    "class Conv2D_layer(nn.Conv2d):      # Inherit Official Class 'nn.Conv2d'\n",
    "    def __init__(self, conv2d_module):\n",
    "        # First, initializing the based class 'nn.Conv2d'\n",
    "        super(nn.Conv2d, self).__init__(conv2d_module.in_channels,  #  give the params of a certain 2d-Conv in \n",
    "                                        conv2d_module.out_channels, # MotioNet to this Module\n",
    "                                        conv2d_module.kernel_size, \n",
    "                                        conv2d_module.stride, \n",
    "                                        conv2d_module.padding, \n",
    "                                        conv2d_module.dilation,\n",
    "                                        conv2d_module.transposed,\n",
    "                                        conv2d_module.output_padding,\n",
    "                                        conv2d_module.groups,\n",
    "                                        False)                      # 除了最后输出的卷积层用了bias，其他的都没有用\n",
    "        # Check: https://pytorch.org/docs/stable/_modules/torch/nn/modules/conv.html#Conv2d \n",
    "        # for init param settings\n",
    "        \n",
    "        self.weight = conv2d_module.weight # We are not just define a CONV layer, we also set the trained weights\n",
    "        # 这里的初始化是否正确？上述赋值的顺序有没有写反？我觉得没有，因为我们在前向运算中得到了正确的结果。\n",
    "        \n",
    "    def gradprop(self, DY):\n",
    "        # 考虑到dilation对kernel_size的影响。（见测试3）\n",
    "        kernel_size_H = self.kernel_size[0] + (self.dilation[0] - 1)*(self.kernel_size[0] - 1)\n",
    "        kernel_size_W = self.kernel_size[1] + (self.dilation[1] - 1)*(self.kernel_size[1] - 1)\n",
    "        \n",
    "        output_padding_H = self.X.size()[2] - ((self.Y.size()[2] - 1) * self.stride[0] \n",
    "                                               - 2 * self.padding[0] + kernel_size_H)\n",
    "        output_padding_W = self.X.size()[3] - ((self.Y.size()[3] - 1) * self.stride[1] \n",
    "                                               - 2 * self.padding[1] + kernel_size_W)        \n",
    "        # https://pytorch.org/docs/stable/nn.html#torch.nn.ConvTranspose2d\n",
    "        # output_padding就是由这个网页中的公式推导出的，需要注意的是，在公式中：\n",
    "        # self.X shape: (N,Cin,Hin,Win)\n",
    "        # self.Y shape: (N,Cout,Hout,Wout)\n",
    "        # in 指的是反卷积函数的 in，也就是我们卷积的输出！out 指的是反卷积的 out, 也就是我们的卷积的输入！\n",
    "        \n",
    "        # 其实，反卷积函数是如何利用卷积的信息、output_padding的信息来求解反卷积的，我是不知道的。\n",
    "        # 我只能尽量保证提供给反卷积函数的信息是正确的\n",
    "        \n",
    "        # 我不清楚dilation对kernel_size的影响是否应该反应到kernel_size中，因为在反卷积函数中已经包含了dilation的信息\n",
    "        # 所以，我们需要做个小实验（测试3）。实验结果表明，即使在反卷积函数中输入dilation，我们还是要留意output_padding中的\n",
    "        # kernel_size，确保其考虑了dilation。这在文档中没有提到，我不清楚是否正确？\n",
    "        \n",
    "        return F.conv_transpose2d(DY, \n",
    "                                  self.weight, \n",
    "                                  stride=self.stride, \n",
    "                                  padding=self.padding,\n",
    "                                  dilation=self.dilation,  # 需要了解卷积的信息，才能进行反卷积\n",
    "                                  output_padding=(output_padding_H,output_padding_W),\n",
    "                                  # 如果利用常规信息进行的反卷积的shape与卷积输入的不相符，output_padding会补0。\n",
    "                                  groups=self.groups\n",
    "                                 )\n",
    "    # 经过我们的理解，可以得知 “ LRP的第三步实现 = 梯度方向传播 = 反卷积 ”\n",
    "    \n",
    "    # 以下四步是经典的LRP实现方法。LRP的实现步骤和我们的分块理解是不同的。因为实现步骤中借用了gradprop来对实现进行了简化。\n",
    "    def relprop(self,R): # follow the Rule above. It is not Z+ or Z+B rule, we can have negative relationship.\n",
    "        # We don't need to copy the layer nor only keep the W+, not at all.\n",
    "        Z = self.Y+1e-9; \n",
    "        S = R/Z\n",
    "        C = self.gradprop(S);         \n",
    "        R = self.X*C\n",
    "        \n",
    "        return R"
   ]
  },
  {
   "cell_type": "code",
   "execution_count": 8,
   "metadata": {},
   "outputs": [],
   "source": [
    "# 其实这个class和上面的Conv2D_layer基本一致，唯一不同的是 bias = True。\n",
    "# 因为在AnxietyDecoder中，我们默认所有的卷积层的bias都是为0的，但是，在我们的MotioNet中，最后一个卷积层Conv_classifier的bias不是0！\n",
    "# 就是因为这么一个 bias，导致我们重建的、带有relprop的模型总是不能完美复现原模型的结果！\n",
    "\n",
    "class Conv_classifier(nn.Conv2d):      \n",
    "    def __init__(self, conv2d_module):\n",
    "        super(nn.Conv2d, self).__init__(conv2d_module.in_channels,  \n",
    "                                        conv2d_module.out_channels,\n",
    "                                        conv2d_module.kernel_size, \n",
    "                                        conv2d_module.stride, \n",
    "                                        conv2d_module.padding, \n",
    "                                        conv2d_module.dilation,\n",
    "                                        conv2d_module.transposed,\n",
    "                                        conv2d_module.output_padding,\n",
    "                                        conv2d_module.groups,\n",
    "                                        True)  # diff\n",
    "        \n",
    "        self.weight = conv2d_module.weight \n",
    "        self.bias = conv2d_module.bias         # diff\n",
    "        \n",
    "    def gradprop(self, DY):        \n",
    "#         output_padding_H = self.X.size()[2] - ((self.Y.size()[2] - 1) * self.stride[0] \n",
    "#                                                - 2 * self.padding[0] + self.kernel_size[0])\n",
    "        \n",
    "#         output_padding_W = self.X.size()[3] - ((self.Y.size()[3] - 1) * self.stride[1] \n",
    "#                                                - 2 * self.padding[1] + self.kernel_size[1])\n",
    "\n",
    "        kernel_size_H = self.kernel_size[0] + (self.dilation[0] - 1)*(self.kernel_size[0] - 1)\n",
    "        kernel_size_W = self.kernel_size[1] + (self.dilation[1] - 1)*(self.kernel_size[1] - 1)\n",
    "        \n",
    "        output_padding_H = self.X.size()[2] - ((self.Y.size()[2] - 1) * self.stride[0] \n",
    "                                               - 2 * self.padding[0] + kernel_size_H)\n",
    "        output_padding_W = self.X.size()[3] - ((self.Y.size()[3] - 1) * self.stride[1] \n",
    "                                               - 2 * self.padding[1] + kernel_size_W) \n",
    "        \n",
    "        return F.conv_transpose2d(DY, \n",
    "                                  self.weight, \n",
    "                                  stride=self.stride, \n",
    "                                  padding=self.padding,\n",
    "                                  dilation=self.dilation,\n",
    "                                  output_padding=(output_padding_H,output_padding_W),\n",
    "                                  groups=self.groups\n",
    "                                 )\n",
    "    \n",
    "    def relprop(self,R):\n",
    "        Z = self.Y+1e-9; \n",
    "        S = R/Z\n",
    "        C = self.gradprop(S);           \n",
    "        R = self.X*C\n",
    "        \n",
    "        return R"
   ]
  },
  {
   "cell_type": "markdown",
   "metadata": {},
   "source": [
    "## 2.1.2 Convolution 3-D"
   ]
  },
  {
   "cell_type": "code",
   "execution_count": 9,
   "metadata": {},
   "outputs": [],
   "source": [
    "class Conv3D_layer(nn.Conv3d):\n",
    "    def __init__(self, conv3d_module):\n",
    "        super(nn.Conv3d, self).__init__(conv3d_module.in_channels, \n",
    "                                        conv3d_module.out_channels, \n",
    "                                        conv3d_module.kernel_size, \n",
    "                                        conv3d_module.stride, \n",
    "                                        conv3d_module.padding, \n",
    "                                        conv3d_module.dilation,\n",
    "                                        conv3d_module.transposed,\n",
    "                                        conv3d_module.output_padding,\n",
    "                                        conv3d_module.groups, \n",
    "                                        False)\n",
    "        self.weight = conv3d_module.weight\n",
    "        \n",
    "    def gradprop(self, DY):       \n",
    "        output_padding_D = self.X.size()[2] - ((self.Y.size()[2] - 1) * self.stride[0] \n",
    "                                               - 2 * self.padding[0] + self.kernel_size[0])               \n",
    "        output_padding_H = self.X.size()[3] - ((self.Y.size()[3] - 1) * self.stride[1] \n",
    "                                               - 2 * self.padding[1] + self.kernel_size[1])\n",
    "        output_padding_W = self.X.size()[4] - ((self.Y.size()[4] - 1) * self.stride[2] \n",
    "                                               - 2 * self.padding[2] + self.kernel_size[2])        \n",
    "        \n",
    "        return F.conv_transpose3d(DY, \n",
    "                                  self.weight, \n",
    "                                  stride=self.stride, \n",
    "                                  padding=self.padding, \n",
    "                                  output_padding=(output_padding_D,output_padding_H,output_padding_W),\n",
    "                                  groups=self.groups,\n",
    "                                  dilation=self.dilation)\n",
    "    \n",
    "    def relprop(self,R):\n",
    "        Z = self.Y+1e-9; \n",
    "        S = R/Z\n",
    "        C = self.gradprop(S);      \n",
    "        R = self.X*C\n",
    "        \n",
    "        return R\n",
    "    \n",
    "# 这个class中的gradprop没有考虑到dilation的影响。因为我们在3d conv中没有用到dilation。\n",
    "# 但是，以防万一，我们还是写了一个备用，如下。"
   ]
  },
  {
   "cell_type": "markdown",
   "metadata": {},
   "source": [
    "## 2.2 ELU Activation Module"
   ]
  },
  {
   "cell_type": "markdown",
   "metadata": {},
   "source": [
    "<img src=\"Figures_for_Notebook\\elu.png\">\n",
    "\n",
    "- Additional comments:  \n",
    "Z = activation(input), so activation(input)/Z = 100%  \n",
    "so we just take activation function as transparent."
   ]
  },
  {
   "cell_type": "code",
   "execution_count": 10,
   "metadata": {},
   "outputs": [],
   "source": [
    "# all the output is contributed by the corresponding input, so input rel = output rel\n",
    "class ELU(nn.ELU):\n",
    "    def relprop(self, R):\n",
    "        return R"
   ]
  },
  {
   "cell_type": "markdown",
   "metadata": {},
   "source": [
    "## 2.3 Dropout Module"
   ]
  },
  {
   "cell_type": "markdown",
   "metadata": {},
   "source": [
    "- In the training session: Randomly zeroes whole channels of the input tensor. The channels to zero-out are randomized on every forward call.\n",
    "- In the test session: In my opinion, dropout has no effect in the test session. we just take it as transparent."
   ]
  },
  {
   "cell_type": "markdown",
   "metadata": {},
   "source": [
    "Dropout Shape:  \n",
    "- Input: (N,C,H,W)  \n",
    "- Output: (N,C,H,W) (same shape as input)"
   ]
  },
  {
   "cell_type": "markdown",
   "metadata": {},
   "source": [
    "### 2.3.1 Dropout 2D"
   ]
  },
  {
   "cell_type": "code",
   "execution_count": 11,
   "metadata": {},
   "outputs": [],
   "source": [
    "class Dropout2D(nn.Dropout2d):\n",
    "    def __init__(self, dropout2d_module):\n",
    "        super(nn.Dropout2d, self).__init__()\n",
    "         # ? since the model should be in the eval model, why should we still input p?\n",
    "        self.p = dropout2d_module.p\n",
    "        self.inplace = dropout2d_module.inplace\n",
    "    \n",
    "    def relprop(self, R):\n",
    "        return R"
   ]
  },
  {
   "cell_type": "markdown",
   "metadata": {},
   "source": [
    "### 2.3.2 Dropout 3D"
   ]
  },
  {
   "cell_type": "code",
   "execution_count": 12,
   "metadata": {},
   "outputs": [],
   "source": [
    "class Dropout3D(nn.Dropout3d):\n",
    "    def __init__(self, dropout3d_module):\n",
    "        super(nn.Dropout3d, self).__init__()\n",
    "        self.p = dropout3d_module.p\n",
    "        self.inplace = dropout3d_module.inplace\n",
    "        \n",
    "    def relprop(self, R):\n",
    "        return R"
   ]
  },
  {
   "cell_type": "markdown",
   "metadata": {},
   "source": [
    "## 2.4 Batch Normalization Module"
   ]
  },
  {
   "cell_type": "markdown",
   "metadata": {},
   "source": [
    "<img src='Figures_for_Notebook\\bn.png'>  \n",
    "- Additional Comments:  \n",
    "if mu=beta=0, then BN should be transparent reagrding LRP.  \n",
    "'Input multiply sth' is the contribution from a neuron, but -mu or +beta are from other 'resources'. \n",
    "So, the calculation above is right."
   ]
  },
  {
   "cell_type": "markdown",
   "metadata": {},
   "source": [
    "### 2.4.1 Batch Norm 2D"
   ]
  },
  {
   "cell_type": "code",
   "execution_count": 13,
   "metadata": {},
   "outputs": [],
   "source": [
    "class BatchNorm2D(nn.BatchNorm2d):\n",
    "    def __init__(self, BatchNorm2d_module):\n",
    "        super(nn.BatchNorm2d, self).__init__(BatchNorm2d_module.num_features,\n",
    "                                             BatchNorm2d_module.eps,\n",
    "                                             BatchNorm2d_module.momentum,\n",
    "                                             BatchNorm2d_module.affine\n",
    "                                            )\n",
    "        self.weight = BatchNorm2d_module.weight\n",
    "        self.bias = BatchNorm2d_module.bias\n",
    "        self.running_mean = BatchNorm2d_module.running_mean\n",
    "        self.running_var = BatchNorm2d_module.running_var\n",
    "        \n",
    "    def relprop(self, R):\n",
    "        mean = self.running_mean.unsqueeze(0).unsqueeze(2).unsqueeze(3)\n",
    "        mean = mean.expand_as(self.X)\n",
    "        mean = Variable(mean)  # see appendix 2 for details\n",
    "        \n",
    "        var = self.running_var.unsqueeze(0).unsqueeze(2).unsqueeze(3)\n",
    "        var = var.expand_as(self.X)\n",
    "        var = Variable(var)\n",
    "        \n",
    "        weight = self.weight.unsqueeze(0).unsqueeze(2).unsqueeze(3)  # see appendix 3 for details\n",
    "        # 为了保证如下运算能够进行，对各个量的shape进行了处理。\n",
    "        \n",
    "        x1 = self.X - mean\n",
    "        x2 = x1*weight/torch.sqrt(var)\n",
    "        # https://www.zhihu.com/question/55621104\n",
    "        y = self.forward(self.X)\n",
    "        # https://github.com/albermax/innvestigate/issues/2\n",
    "        \n",
    "        contri_ratio = self.X*x2/(x1*y)\n",
    "        R = contri_ratio*R\n",
    "        \n",
    "        return R"
   ]
  },
  {
   "cell_type": "markdown",
   "metadata": {},
   "source": [
    "### 2.4.2 Batch Norm 3D"
   ]
  },
  {
   "cell_type": "code",
   "execution_count": 14,
   "metadata": {},
   "outputs": [],
   "source": [
    "class BatchNorm3D(nn.BatchNorm3d):\n",
    "    def __init__(self, BatchNorm3d_module):\n",
    "        super(nn.BatchNorm3d, self).__init__(BatchNorm3d_module.num_features,\n",
    "                                             BatchNorm3d_module.eps,\n",
    "                                             BatchNorm3d_module.momentum,\n",
    "                                             BatchNorm3d_module.affine\n",
    "                                            )\n",
    "        self.weight = BatchNorm3d_module.weight\n",
    "        self.bias = BatchNorm3d_module.bias\n",
    "        self.running_mean = BatchNorm3d_module.running_mean\n",
    "        self.running_var = BatchNorm3d_module.running_var\n",
    "        \n",
    "    def relprop(self, R):\n",
    "        mean = self.running_mean.unsqueeze(0).unsqueeze(2).unsqueeze(3).unsqueeze(4)\n",
    "        mean = mean.expand_as(self.X)\n",
    "        mean = Variable(mean)\n",
    "        \n",
    "        var = self.running_var.unsqueeze(0).unsqueeze(2).unsqueeze(3).unsqueeze(4)\n",
    "        var = var.expand_as(self.X)\n",
    "        var = Variable(var)\n",
    "        \n",
    "        weight = self.weight.unsqueeze(0).unsqueeze(2).unsqueeze(3).unsqueeze(4)\n",
    "        \n",
    "        x1 = self.X - mean\n",
    "        x2 = x1*weight/torch.sqrt(var) \n",
    "        y = self.forward(self.X)\n",
    "        contri_ratio = self.X*x2/(x1*y)\n",
    "        \n",
    "        R = contri_ratio*R        \n",
    "        \n",
    "        return R"
   ]
  },
  {
   "cell_type": "markdown",
   "metadata": {},
   "source": [
    "## 2.5 Reshape Module"
   ]
  },
  {
   "cell_type": "code",
   "execution_count": 15,
   "metadata": {},
   "outputs": [],
   "source": [
    "class Reshape_Layer5(nn.Module):\n",
    "    def __init__(self):\n",
    "        super(Reshape_Layer5, self).__init__()\n",
    "        \n",
    "    def forward(self, x):\n",
    "        return x.view(-1, 4*24)\n",
    "        \n",
    "    def relprop(self, R):\n",
    "        return R.view(-1, 4, 1, 24)  # see appendix for validation"
   ]
  },
  {
   "cell_type": "markdown",
   "metadata": {},
   "source": [
    "## 2.6 Padding Module"
   ]
  },
  {
   "cell_type": "code",
   "execution_count": 16,
   "metadata": {},
   "outputs": [],
   "source": [
    "class Dim_reduce_and_permute(nn.Module):\n",
    "    def __init__(self):\n",
    "        super(Dim_reduce_and_permute, self).__init__()\n",
    "        \n",
    "    def forward(self, x):\n",
    "        # x.shape = (batch, 4, 64, 1, 1)\n",
    "        # x is a torch variable\n",
    "        x = x[:,:,:,:,0]\n",
    "        x = x.permute(0,1,3,2)\n",
    "        return x\n",
    "    \n",
    "    def relprop(self, R):\n",
    "        R = R.permute(0,1,3,2)\n",
    "        R = R.unsqueeze(4)\n",
    "        # http://blog.outcome.io/adding-a-dimension-to-a-tensor-in-pytorch/\n",
    "        return R"
   ]
  },
  {
   "cell_type": "code",
   "execution_count": 17,
   "metadata": {},
   "outputs": [],
   "source": [
    "class Padding_for_3D_input(nn.ConstantPad3d):\n",
    "    def __init__(self, padding_module):\n",
    "        super(nn.ConstantPad3d, self).__init__(padding_module.padding,\n",
    "                                               padding_module.value)\n",
    "        \n",
    "    #  The padding neurons don't receive any contribution from the previous layer, \n",
    "    # so they can't back prop any relevance.    \n",
    "    def relprop(self, R):\n",
    "        R = R[:,:,12:12+64,:,:]  # (N, C, D, H, W)\n",
    "        return R"
   ]
  },
  {
   "cell_type": "markdown",
   "metadata": {},
   "source": [
    "## 2.7 Linear Module"
   ]
  },
  {
   "cell_type": "code",
   "execution_count": 18,
   "metadata": {},
   "outputs": [],
   "source": [
    "# 在MotioNet中压根没用到这个模块\n",
    "class Linear(nn.Linear):\n",
    "    def __init__(self, linear):\n",
    "        super(nn.Linear, self).__init__()\n",
    "        self.in_features = linear.in_features\n",
    "        self.out_features = linear.out_features\n",
    "        self.weight = linear.weight\n",
    "        self.bias = linear.bias\n",
    "        \n",
    "    def relprop(self, R):\n",
    "        # W = torch.clamp(self.weight, min=0)\n",
    "        # # Clamp all elements in input into the range [ min, max ] and return a resulting tensor\n",
    "        # # nn.Linear: weight – the learnable weights of the module of shape (out_features x in_features)\n",
    "        # # W.shape = (1,96)\n",
    "        # # self.X.shape = (-1,96)\n",
    "        \n",
    "        Z = torch.mm(self.X, torch.transpose(self.weight,0,1)) + 1e-9\n",
    "        # Performs a matrix multiplication of the matrices mat1 and mat2.\n",
    "        # Z.shape = (-1,1)\n",
    "        \n",
    "        S = R / Z\n",
    "        # S.shape = (-1,1)\n",
    "        C = torch.mm(S, self.weight)  # just the same as gradprop\n",
    "        # C.shape = (-1,96)         \n",
    "        R = self.X * C\n",
    "        \n",
    "        return R"
   ]
  },
  {
   "cell_type": "markdown",
   "metadata": {},
   "source": [
    "## 2.8 Models for Motion Detection"
   ]
  },
  {
   "cell_type": "code",
   "execution_count": 19,
   "metadata": {},
   "outputs": [],
   "source": [
    "# 上述模块之前就已经写有一部分了，我们只要优化并检查就好\n",
    "# 下面的模块，是针对MotioNet写的"
   ]
  },
  {
   "cell_type": "code",
   "execution_count": 20,
   "metadata": {},
   "outputs": [],
   "source": [
    "# dimshuffle  # RelProp是在这之后(以网络前向顺序来讲)结束的，所以，这里不会用到RelProp模块。之所以定义，是要保证前向过程的模型是对的。\n",
    "class dimshuffle(nn.Module):\n",
    "    def __init__(self):\n",
    "        super(dimshuffle, self).__init__()\n",
    "        \n",
    "    def forward(self, x):\n",
    "        # x.shape = (batch, 64, 497, 1)\n",
    "        x = x.permute(0,3,2,1)\n",
    "        return x\n",
    "    \n",
    "    def relprop(self, R):\n",
    "        R = R.permute(0,3,2,1)  # 其实部分不会用到，因为在 To_3D 中，relprop就已经结束了。\n",
    "        return R"
   ]
  },
  {
   "cell_type": "code",
   "execution_count": 21,
   "metadata": {},
   "outputs": [],
   "source": [
    "# To_3D\n",
    "class To_3D(nn.Module):\n",
    "    def __init__(self):\n",
    "        super(To_3D, self).__init__()\n",
    "        self.selected_chans = [29,30,31,32,33,34,35,36,37,\n",
    "                               38, 0, 1, 2, 3, 4, 5, 6,39,\n",
    "                               40, 7, 8, 9,10,11,12,13,41,\n",
    "                               44,14,15,16,17,18,19,20,45,\n",
    "                               46,47,48,49,50,51,52,53,54],        \n",
    "        \n",
    "    def forward(self, x):\n",
    "        # selected electrodes we want\n",
    "        x = x[:, :, :, self.selected_chans]  # 按顺序选出我们想要的channels\n",
    "        # reshape the electrodes to 2D topo\n",
    "        x = x.view(-1, 1, 496, 5, 9)\n",
    "        return x\n",
    "    \n",
    "    def relprop(self, R):\n",
    "        R = R.view(-1, 1, 496, 45)  \n",
    "        # 注意：我们的relprop到此为止即可，因为此时我们已经拿到了足够的可视化信息\n",
    "        # 即使进行 “挑选channel” “将tensor维度调换”的逆过程，也不会有什么不同了。\n",
    "        return R   "
   ]
  },
  {
   "cell_type": "code",
   "execution_count": 22,
   "metadata": {},
   "outputs": [],
   "source": [
    "# squeeze_1\n",
    "class squeeze_1(nn.Module):\n",
    "    def __init__(self):\n",
    "        super(squeeze_1, self).__init__()\n",
    "        \n",
    "    def forward(self, x):\n",
    "        x = x[:,:,:,:,0]\n",
    "        return x\n",
    "        \n",
    "    def relprop(self, R):\n",
    "        R = R[:,:,:,:,None]\n",
    "        return R"
   ]
  },
  {
   "cell_type": "code",
   "execution_count": 23,
   "metadata": {},
   "outputs": [],
   "source": [
    "# Maxpool_2D for pool_2 pool_3 pool_4\n",
    "class MaxPool2d(nn.MaxPool2d):\n",
    "    def __init__(self, maxpool2d):\n",
    "        super(nn.MaxPool2d, self).__init__()\n",
    "        self.kernel_size = maxpool2d.kernel_size\n",
    "        self.stride = maxpool2d.stride\n",
    "        self.padding = maxpool2d.padding\n",
    "        self.dilation = maxpool2d.dilation\n",
    "        self.return_indices = maxpool2d.return_indices\n",
    "        self.ceil_mode = maxpool2d.ceil_mode\n",
    "                \n",
    "    def gradprop(self, DY):\n",
    "        DX = self.X * 0\n",
    "        temp, indices = F.max_pool2d(self.X, self.kernel_size, self.stride, \n",
    "                                     self.padding, self.dilation, self.ceil_mode, True) \n",
    "        # ceil_mode=False, return_indices=True\n",
    "\n",
    "        kernel_size_H = self.kernel_size[0] + (self.dilation[0] - 1)*(self.kernel_size[0] - 1)\n",
    "        kernel_size_W = self.kernel_size[1] + (self.dilation[1] - 1)*(self.kernel_size[1] - 1)\n",
    "        # 参考补充测试1和2\n",
    "        # 我们需要考虑 dilation 对kernel size的影响\n",
    "        \n",
    "        DX = F.max_unpool2d(DY, \n",
    "                            indices, \n",
    "                            (kernel_size_H, kernel_size_W), \n",
    "                            self.stride, \n",
    "                            self.padding)\n",
    "        return DX\n",
    "    \n",
    "    def relprop(self, R):\n",
    "        Z = self.Y + 1e-9\n",
    "        S = R / Z\n",
    "        C = self.gradprop(S)\n",
    "        R = self.X * C\n",
    "        return R"
   ]
  },
  {
   "cell_type": "code",
   "execution_count": 24,
   "metadata": {},
   "outputs": [],
   "source": [
    "# Maxpool_2D for pool_1\n",
    "# 代码与上述Maxpool基本相同，之所以对第一个maxpool分开写，是因为：\n",
    "# type(model.pool_2.dilation) = type(model.pool_3.dilation) = type(model.pool_4.dilation) = tuple\n",
    "# 而type(model.pool.dilation) = int,我们无法用self.dilation[0] or self.dilation[1]，只能用 self.dilation\n",
    "# 这是唯一的不同\n",
    "class MaxPool2d_for_L1(nn.MaxPool2d):\n",
    "    def __init__(self, maxpool2d):\n",
    "        super(nn.MaxPool2d, self).__init__()\n",
    "        self.kernel_size = maxpool2d.kernel_size\n",
    "        self.stride = maxpool2d.stride\n",
    "        self.padding = maxpool2d.padding\n",
    "        self.dilation = maxpool2d.dilation\n",
    "        self.return_indices = maxpool2d.return_indices\n",
    "        self.ceil_mode = maxpool2d.ceil_mode\n",
    "                \n",
    "    def gradprop(self, DY):\n",
    "        DX = self.X * 0\n",
    "        temp, indices = F.max_pool2d(self.X, self.kernel_size, self.stride, \n",
    "                                     self.padding, self.dilation, self.ceil_mode, True) \n",
    "        # ceil_mode=False, return_indices=True\n",
    "\n",
    "        kernel_size_H = self.kernel_size[0] + (self.dilation - 1)*(self.kernel_size[0] - 1)  # diff\n",
    "        kernel_size_W = self.kernel_size[1] + (self.dilation - 1)*(self.kernel_size[1] - 1)  # diff\n",
    "        # 参考补充测试1和2\n",
    "        \n",
    "        DX = F.max_unpool2d(DY, \n",
    "                            indices, \n",
    "                            (kernel_size_H, kernel_size_W), \n",
    "                            self.stride, \n",
    "                            self.padding)\n",
    "        return DX\n",
    "    \n",
    "    def relprop(self, R):\n",
    "        Z = self.Y + 1e-9\n",
    "        S = R / Z\n",
    "        C = self.gradprop(S)\n",
    "        R = self.X * C\n",
    "        return R"
   ]
  },
  {
   "cell_type": "code",
   "execution_count": 25,
   "metadata": {},
   "outputs": [],
   "source": [
    "# LogSoftmax  # RelProp是在这之前开始的，所以，这里不必加入RelProp模块。之所以定义，是要保证前向过程的模型是对的。\n",
    "class Softmax(nn.LogSoftmax):\n",
    "    def __init__(self, softmax):\n",
    "        super(nn.LogSoftmax, self).__init__()\n",
    "        self.dim = softmax.dim"
   ]
  },
  {
   "cell_type": "code",
   "execution_count": 26,
   "metadata": {},
   "outputs": [],
   "source": [
    "# squeeze     # RelProp是在这之前开始的，所以，这里不必加入RelProp模块。之所以定义，是要保证前向过程的模型是对的。\n",
    "class squeeze(nn.Module):\n",
    "    def __init__(self):\n",
    "        super(squeeze, self).__init__()\n",
    "        \n",
    "    def forward(self, x):\n",
    "        x = x[0,:,:,0]  # input shape = (1, 2, 387, 1)\n",
    "        return x"
   ]
  },
  {
   "cell_type": "markdown",
   "metadata": {},
   "source": [
    "# 3. Redefine the Network with RelProp"
   ]
  },
  {
   "cell_type": "code",
   "execution_count": 27,
   "metadata": {},
   "outputs": [],
   "source": [
    "class MotioNet(nn.Module):\n",
    "    def __init__(self):\n",
    "        super(MotioNet, self).__init__()\n",
    "        self.layers = nn.Sequential(\n",
    "            dimshuffle(),\n",
    "            To_3D(),\n",
    "            Conv3D_layer(model.Conv3D_1_1),\n",
    "            BatchNorm3D(model.Bnorm3D_1_1),\n",
    "            ELU(),\n",
    "            Conv3D_layer(model.Conv3D_1_2),\n",
    "            BatchNorm3D(model.Bnorm3D_1_2),\n",
    "            ELU(),\n",
    "            Conv3D_layer(model.Conv3D_1_3),\n",
    "            BatchNorm3D(model.Bnorm3D_1_3),\n",
    "            ELU(),\n",
    "            squeeze_1(),\n",
    "            MaxPool2d_for_L1(model.pool),\n",
    "            Dropout2D(model.drop_2),\n",
    "            Conv2D_layer(model.conv_2),\n",
    "            BatchNorm2D(model.bnorm_2),\n",
    "            ELU(),\n",
    "            MaxPool2d(model.pool_2),\n",
    "            Dropout2D(model.drop_3),\n",
    "            Conv2D_layer(model.conv_3),\n",
    "            BatchNorm2D(model.bnorm_3),\n",
    "            ELU(),\n",
    "            MaxPool2d(model.pool_3),\n",
    "            Dropout2D(model.drop_4),\n",
    "            Conv2D_layer(model.conv_4),\n",
    "            BatchNorm2D(model.bnorm_4),\n",
    "            ELU(),\n",
    "            MaxPool2d(model.pool_4),\n",
    "            Conv_classifier(model.conv_classifier),\n",
    "            Softmax(model.softmax),\n",
    "            squeeze()\n",
    "        )\n",
    "        \n",
    "    def forward(self, x):\n",
    "        x = self.layers(x)\n",
    "        return x\n",
    "        \n",
    "    def relprop(self, R):\n",
    "        for l in range(len(self.layers)-2, 1, -1):\n",
    "            R = self.layers[l-1].relprop(R)  # from the last layer (l-2) to layer 2 # l ,l-1 和 layer 1 不用\n",
    "            # 28~1\n",
    "        return R  "
   ]
  },
  {
   "cell_type": "markdown",
   "metadata": {},
   "source": [
    "# 4. Load Test Dataset and Labels"
   ]
  },
  {
   "cell_type": "code",
   "execution_count": 28,
   "metadata": {},
   "outputs": [],
   "source": [
    "import mne\n",
    "import numpy as np\n",
    "from mne.io import concatenate_raws\n",
    "from BrainDecode_Library.datautil.signal_target import SignalAndTarget"
   ]
  },
  {
   "cell_type": "code",
   "execution_count": 29,
   "metadata": {
    "scrolled": true
   },
   "outputs": [
    {
     "name": "stdout",
     "output_type": "stream",
     "text": [
      "Extracting edf Parameters from /home/dwang/Datasets/MNE-eegbci-data/physiobank/database/eegmmidb/S066/S066R04.edf...\n",
      "EDF file detected\n",
      "Setting channel info structure...\n",
      "Created Raw.info structure...\n",
      "Reading 0 ... 19999  =      0.000 ...   124.994 secs...\n",
      "Ready.\n",
      "Extracting edf Parameters from /home/dwang/Datasets/MNE-eegbci-data/physiobank/database/eegmmidb/S066/S066R08.edf...\n",
      "EDF file detected\n",
      "Setting channel info structure...\n",
      "Created Raw.info structure...\n",
      "Reading 0 ... 19999  =      0.000 ...   124.994 secs...\n",
      "Ready.\n",
      "Extracting edf Parameters from /home/dwang/Datasets/MNE-eegbci-data/physiobank/database/eegmmidb/S066/S066R12.edf...\n",
      "EDF file detected\n",
      "Setting channel info structure...\n",
      "Created Raw.info structure...\n",
      "Reading 0 ... 19999  =      0.000 ...   124.994 secs...\n",
      "Ready.\n",
      "Removing orphaned offset at the beginning of the file.\n",
      "89 events found\n",
      "Events id: [1 2 3]\n",
      "45 matching events found\n",
      "Loading data for 45 events and 496 original time points ...\n",
      "0 bad epochs dropped\n"
     ]
    }
   ],
   "source": [
    "# 选择哪些参与者的哪些trial来作为数据，输出这些数据的地址\n",
    "physionet_paths_test = [mne.datasets.eegbci.load_data(sub_id,[4,8,12,]) \n",
    "                        for sub_id in range(Test_participant_Num,Test_participant_Num+1)]  # 效果好：# 65~70 # 71~75 # 66 70\n",
    "physionet_paths_test = np.concatenate(physionet_paths_test)  # list\n",
    "\n",
    "# 将这些数据的object都提取出来\n",
    "parts_test = [mne.io.read_raw_edf(path, preload=True,stim_channel='auto')  # list\n",
    "         for path in physionet_paths_test]\n",
    "raw_test = concatenate_raws(parts_test)\n",
    "\n",
    "# 选择这些数据的EEG channels\n",
    "picks_test = mne.pick_types(raw_test.info, meg=False, eeg=True, stim=False, eog=False,\n",
    "                   exclude='bads')\n",
    "\n",
    "# 定位这些数据的event\n",
    "events_test = mne.find_events(raw_test, shortest_event=0, stim_channel='STI 014')\n",
    "\n",
    "# 对各个event的EEG数据进行提取。每个event提取的时间范围 （tmin，tmax）\n",
    "epoched_test = mne.Epochs(raw_test, events_test, dict(left=2, right=3), tmin=1, \n",
    "                          tmax=4.1-1./160, proj=False, picks=picks_test, baseline=None, preload=True)\n",
    "# numpy.ndarray with shape （-1, 64, 496）"
   ]
  },
  {
   "cell_type": "code",
   "execution_count": 30,
   "metadata": {},
   "outputs": [],
   "source": [
    "test_X = (epoched_test.get_data() * 1e6).astype(np.float32)\n",
    "# * 1e6将数据大概置于 -100~100 的范围内\n",
    "# .astype(np.float32) 将数据转换成为浮点数\n",
    "# test_X.shape = (-1, 64, 497)\n",
    "# np.array\n",
    "\n",
    "test_y = (epoched_test.events[:,2] - 2).astype(np.int64)\n",
    "# epoched.events的格式为[event发生的起始采样点, ,event类型]，其第二列中包含了各个event的类型\n",
    "# array([[    672,       0,       3],\n",
    "#        [   2000,       0,       2],\n",
    "#        [   3328,       0,       2],\n",
    "#        ..., \n",
    "#        [2956688,       0,       2],\n",
    "#        [2958000,       0,       2],\n",
    "#        [2959312,       0,       3]])\n",
    "# 将其提取出作为每个数据的label，2:left, 3: right 转换成 0:left, 1:right\n",
    "\n",
    "# test_set = SignalAndTarget(test_X, y=test_y)\n",
    "# # SignalAndTarget 只是一个存放data和label的object容器而已"
   ]
  },
  {
   "cell_type": "markdown",
   "metadata": {},
   "source": [
    "# 5. Model"
   ]
  },
  {
   "cell_type": "code",
   "execution_count": 31,
   "metadata": {},
   "outputs": [],
   "source": [
    "MotioNet = MotioNet().cuda()  # to GPU"
   ]
  },
  {
   "cell_type": "code",
   "execution_count": 32,
   "metadata": {},
   "outputs": [
    {
     "data": {
      "text/plain": [
       "MotioNet(\n",
       "  (layers): Sequential(\n",
       "    (0): dimshuffle(\n",
       "    )\n",
       "    (1): To_3D(\n",
       "    )\n",
       "    (2): Conv3D_layer (1, 10, kernel_size=(5, 2, 2), stride=(1, 1, 1), bias=False)\n",
       "    (3): BatchNorm3D(10, eps=1e-05, momentum=0.1, affine=True)\n",
       "    (4): ELU(alpha=1.0)\n",
       "    (5): Conv3D_layer (10, 20, kernel_size=(10, 2, 2), stride=(1, 1, 1), bias=False)\n",
       "    (6): BatchNorm3D(20, eps=1e-05, momentum=0.1, affine=True)\n",
       "    (7): ELU(alpha=1.0)\n",
       "    (8): Conv3D_layer (20, 30, kernel_size=(1, 3, 7), stride=(1, 1, 1), bias=False)\n",
       "    (9): BatchNorm3D(30, eps=1e-05, momentum=0.1, affine=True)\n",
       "    (10): ELU(alpha=1.0)\n",
       "    (11): squeeze_1(\n",
       "    )\n",
       "    (12): MaxPool2d_for_L1(kernel_size=(3, 1), stride=(1, 1), dilation=(1, 1))\n",
       "    (13): Dropout2D(p=0.5)\n",
       "    (14): Conv2D_layer (30, 50, kernel_size=(10, 1), stride=(1, 1), dilation=(2, 1), bias=False)\n",
       "    (15): BatchNorm2D(50, eps=1e-05, momentum=0.1, affine=True)\n",
       "    (16): ELU(alpha=1.0)\n",
       "    (17): MaxPool2d(kernel_size=(3, 1), stride=(1, 1), dilation=(2, 1))\n",
       "    (18): Dropout2D(p=0.5)\n",
       "    (19): Conv2D_layer (50, 100, kernel_size=(5, 1), stride=(1, 1), dilation=(4, 1), bias=False)\n",
       "    (20): BatchNorm2D(100, eps=1e-05, momentum=0.1, affine=True)\n",
       "    (21): ELU(alpha=1.0)\n",
       "    (22): MaxPool2d(kernel_size=(3, 1), stride=(1, 1), dilation=(4, 1))\n",
       "    (23): Dropout2D(p=0.5)\n",
       "    (24): Conv2D_layer (100, 200, kernel_size=(5, 1), stride=(1, 1), dilation=(8, 1), bias=False)\n",
       "    (25): BatchNorm2D(200, eps=1e-05, momentum=0.1, affine=True)\n",
       "    (26): ELU(alpha=1.0)\n",
       "    (27): MaxPool2d(kernel_size=(3, 1), stride=(1, 1), dilation=(8, 1))\n",
       "    (28): Conv_classifier (200, 2, kernel_size=(1, 1), stride=(1, 1), dilation=(16, 1))\n",
       "    (29): Softmax()\n",
       "    (30): squeeze(\n",
       "    )\n",
       "  )\n",
       ")"
      ]
     },
     "execution_count": 32,
     "metadata": {},
     "output_type": "execute_result"
    }
   ],
   "source": [
    "# 捕捉每一层的输入和输出\n",
    "layer_outputs = []\n",
    "layer_inputs = []\n",
    "# forward hook method for retrieving intermediate results\n",
    "def forward_hook(self, Input, Output):\n",
    "    self.X = Input[0]  # print (type(Input)): <class 'tuple'>, but with ONLY one element, \n",
    "                       # print (type(Input[0])): <class 'torch.autograd.variable.Variable'>\n",
    "\n",
    "    self.Y = Output    # print (type(Output)): <class 'torch.autograd.variable.Variable'>\n",
    "    layer_outputs.append(self.Y)\n",
    "    layer_inputs.append(self.X)\n",
    "# equals to set two more attributes(X,Y) to the instance of each layer.\n",
    "   \n",
    "for i in range(0, len(MotioNet.layers)):\n",
    "    MotioNet.layers[i].register_forward_hook(forward_hook)  # save the input and output for each layer\n",
    "\n",
    "MotioNet.eval()"
   ]
  },
  {
   "cell_type": "markdown",
   "metadata": {},
   "source": [
    "# 6. Evaluation"
   ]
  },
  {
   "cell_type": "markdown",
   "metadata": {},
   "source": [
    "**Forward Process for one participant in test set**"
   ]
  },
  {
   "cell_type": "code",
   "execution_count": 33,
   "metadata": {},
   "outputs": [],
   "source": [
    "from BrainDecode_Library.datasets.sensor_positions import get_channelpos, CHANNEL_10_20_APPROX\n",
    "from BrainDecode_Library.torch_ext.util import np_to_var, var_to_np\n",
    "import seaborn as sns\n",
    "from matplotlib import cm\n",
    "import matplotlib.pyplot as plt\n",
    "\n",
    "import operator\n",
    "import functools\n",
    "\n",
    "%matplotlib inline"
   ]
  },
  {
   "cell_type": "code",
   "execution_count": 34,
   "metadata": {},
   "outputs": [],
   "source": [
    "#我们所采用的45个channels在前\n",
    "channel_names = ['F7..','F5..','F3..','F1..','Fz..','F2..','F4..','F6..','F8..',\n",
    "                 'Ft7.','Fc5.','Fc3.','Fc1.','Fcz.','Fc2.','Fc4.','Fc6.','Ft8.',\n",
    "                 'T7..','C5..','C3..','C1..','Cz..','C2..','C4..','C6..','T8..',\n",
    "                 'Tp7.','Cp5.','Cp3.','Cp1.','Cpz.','Cp2.','Cp4.','Cp6.','Tp8.',\n",
    "                 'P7..','P5..','P3..','P1..','Pz..','P2..','P4..','P6..','P8..',\n",
    "                 'Fp1.','Fpz.','Fp2.','Af7.','Af3.','Afz.','Af4.','Af8.','Po7.',\n",
    "                 'Po3.','Poz.','Po4.','Po8.','O1..','Oz..','O2..','Iz..','T9..',\n",
    "                 'T10.']\n",
    "\n",
    "#得到每个channel的拓扑位置\n",
    "ch_names = [s.strip('.') for s in channel_names]\n",
    "positions = [get_channelpos(name, CHANNEL_10_20_APPROX) for name in ch_names]\n",
    "positions = np.array(positions)\n",
    "\n",
    "zero_channels = np.array([0.,0.,0.,0.,0.,0.,0.,0.,0.,0.,\n",
    "                          0.,0.,0.,0.,0.,0.,0.,0.,0.,])"
   ]
  },
  {
   "cell_type": "code",
   "execution_count": 35,
   "metadata": {
    "scrolled": false
   },
   "outputs": [],
   "source": [
    "R_for_Left = []\n",
    "R_for_Right = []\n",
    "flag = 0\n",
    "tmp = []\n",
    "\n",
    "zeros = np.float32(np.zeros((1,1,387,1)))\n",
    "ones = np.float32(np.ones((1,1,387,1)))\n",
    "mask_for_class_left = np_to_var(np.concatenate((ones,zeros), axis=1)).cuda()\n",
    "mask_for_class_right = np_to_var(np.concatenate((zeros,ones), axis=1)).cuda()\n",
    "\n",
    "for i in range(test_X.shape[0]):\n",
    "    trail_num = i\n",
    "    \n",
    "    data = test_X[trail_num, :, :]\n",
    "    data.shape = (1, 64, 496, 1)\n",
    "    data = np_to_var(data).cuda()\n",
    "\n",
    "    label = test_y[trail_num]\n",
    "    \n",
    "    # 为每个前向过程存储各个层的输入和输出\n",
    "    layer_outputs = []\n",
    "    layer_inputs = []\n",
    "    \n",
    "    # Forward\n",
    "    Predict_movement = MotioNet(data)\n",
    "\n",
    "    # Total relevance before softmax\n",
    "    Total_R_Before_Softmax = layer_outputs[28]\n",
    " \n",
    "    # the prediction of the forward process\n",
    "    prediction = np.mean(var_to_np(Predict_movement), axis=1)\n",
    "    tmp.append(prediction)\n",
    "    \n",
    "    if prediction[0] > prediction[1]:  # Predition is Left\n",
    "        if label == 0:                 # Label is Left\n",
    "            # 我们只将关于左手的、softmax输入的值做回传处理，关于右手的置0\n",
    "            Total_R_Before_Softmax = Total_R_Before_Softmax*mask_for_class_left\n",
    "            \n",
    "            # Reverse\n",
    "            Relevance_for_1_case = var_to_np(MotioNet.relprop(Total_R_Before_Softmax))\n",
    "            # 对Input relevance在时间域做平均\n",
    "            spatial_LRP_map = np.mean(Relevance_for_1_case, axis=2)[0,0,:]\n",
    "            \n",
    "            # 加入没有采用的channel，对应的LRP值为0\n",
    "            spatial_LRP_map_new = np.concatenate((spatial_LRP_map, zero_channels))\n",
    "        \n",
    "            flag = np.sum(np.isnan(spatial_LRP_map_new).reshape(64))\n",
    "            \n",
    "            # 检查Relevance_for_1_case有没有nan，让所有bool类型的元素相加，flag=0表示没有\n",
    "            if flag == 0:\n",
    "                R_for_Left.append(Relevance_for_1_case)\n",
    "            \n",
    "    if prediction[0] < prediction[1]:  # Predition is Right\n",
    "        if label == 1:                 # Label is Right\n",
    "            Total_R_Before_Softmax = Total_R_Before_Softmax*mask_for_class_right\n",
    "            \n",
    "            # Reverse\n",
    "            Relevance_for_1_case = var_to_np(MotioNet.relprop(Total_R_Before_Softmax))\n",
    "            # 对Input relevance在时间域做平均\n",
    "            spatial_LRP_map = np.mean(Relevance_for_1_case, axis=2)[0,0,:]\n",
    "            \n",
    "            # 加入没有采用的channel，对应的LRP值为0\n",
    "            spatial_LRP_map_new = np.concatenate((spatial_LRP_map, zero_channels))\n",
    "        \n",
    "            flag = np.sum(np.isnan(spatial_LRP_map_new).reshape(64))\n",
    "            \n",
    "            # 检查Relevance_for_1_case有没有nan，让所有bool类型的元素相加，flag=0表示没有\n",
    "            if flag == 0:\n",
    "                R_for_Right.append(Relevance_for_1_case)"
   ]
  },
  {
   "cell_type": "markdown",
   "metadata": {},
   "source": [
    "---"
   ]
  },
  {
   "cell_type": "markdown",
   "metadata": {},
   "source": [
    "## Averaged decision-making heatmap for each class"
   ]
  },
  {
   "cell_type": "markdown",
   "metadata": {},
   "source": [
    "### Left hand imagination"
   ]
  },
  {
   "cell_type": "code",
   "execution_count": 36,
   "metadata": {},
   "outputs": [],
   "source": [
    "ave_LRP_for_correct_left_preds = np.mean(np.concatenate(R_for_Left,axis=2),axis=2)[0,0,:]\n",
    "zero_channels = np.array([0.,0.,0.,0.,0.,0.,0.,0.,0.,0.,\n",
    "                          0.,0.,0.,0.,0.,0.,0.,0.,0.,])\n",
    "ave_LRP_for_correct_left_preds = np.concatenate((ave_LRP_for_correct_left_preds, zero_channels))"
   ]
  },
  {
   "cell_type": "code",
   "execution_count": 37,
   "metadata": {},
   "outputs": [
    {
     "data": {
      "image/png": "[encoded data removed]",
      "text/plain": [
       "<matplotlib.figure.Figure at 0x7f31c5023080>"
      ]
     },
     "metadata": {},
     "output_type": "display_data"
    },
    {
     "data": {
      "text/plain": [
       "(<matplotlib.image.AxesImage at 0x7f31c40fca90>,\n",
       " <matplotlib.contour.QuadContourSet at 0x7f31c40fc780>)"
      ]
     },
     "execution_count": 37,
     "metadata": {},
     "output_type": "execute_result"
    }
   ],
   "source": [
    "mne.viz.plot_topomap(ave_LRP_for_correct_left_preds, \n",
    "                     positions,\n",
    "                     contours=8,\n",
    "                     cmap=cm.coolwarm,\n",
    "                     outlines='skirt',\n",
    "                     show=True)"
   ]
  },
  {
   "cell_type": "markdown",
   "metadata": {},
   "source": [
    "## Right hand imagination"
   ]
  },
  {
   "cell_type": "code",
   "execution_count": 38,
   "metadata": {},
   "outputs": [],
   "source": [
    "ave_LRP_for_correct_right_preds = np.mean(np.concatenate(R_for_Right,axis=2),axis=2)[0,0,:]\n",
    "zero_channels = np.array([0.,0.,0.,0.,0.,0.,0.,0.,0.,0.,\n",
    "                          0.,0.,0.,0.,0.,0.,0.,0.,0.,])\n",
    "ave_LRP_for_correct_right_preds = np.concatenate((ave_LRP_for_correct_right_preds, zero_channels))"
   ]
  },
  {
   "cell_type": "code",
   "execution_count": 39,
   "metadata": {},
   "outputs": [
    {
     "data": {
      "image/png": "[encoded data removed]",
      "text/plain": [
       "<matplotlib.figure.Figure at 0x7f31c40c1cf8>"
      ]
     },
     "metadata": {},
     "output_type": "display_data"
    },
    {
     "data": {
      "text/plain": [
       "(<matplotlib.image.AxesImage at 0x7f31c401ef60>,\n",
       " <matplotlib.contour.QuadContourSet at 0x7f31c4072320>)"
      ]
     },
     "execution_count": 39,
     "metadata": {},
     "output_type": "execute_result"
    }
   ],
   "source": [
    "mne.viz.plot_topomap(ave_LRP_for_correct_right_preds, \n",
    "                     positions,\n",
    "                     contours=8,\n",
    "                     cmap=cm.coolwarm,\n",
    "                     outlines='skirt',\n",
    "                     show=True)"
   ]
  },
  {
   "cell_type": "code",
   "execution_count": 40,
   "metadata": {},
   "outputs": [],
   "source": [
    "R_for_Left = np.concatenate(R_for_Left, axis=0)  # R_for_Left.shape = (batch, 1, 496, 45)"
   ]
  },
  {
   "cell_type": "code",
   "execution_count": 41,
   "metadata": {},
   "outputs": [],
   "source": [
    "R_for_Right = np.concatenate(R_for_Right, axis=0)"
   ]
  },
  {
   "cell_type": "code",
   "execution_count": 42,
   "metadata": {},
   "outputs": [],
   "source": [
    "#scipy.io.savemat('LRP_Heatmaps_Matlab_Array/LRP_maps_for_Right.mat', mdict={'LRP_maps_for_Right': R_for_Right})\n",
    "#scipy.io.savemat('LRP_Heatmaps_Matlab_Array/LRP_maps_for_Left.mat', mdict={'LRP_maps_for_Left': R_for_Left})\n",
    "scipy.io.savemat('LRP_Heatmaps_Matlab_Array/Ave_LRP_for_TestParticipant'+str(Test_participant_Num-64)+'_Right.mat', mdict={'Ave_LRP_map_for_Right': ave_LRP_for_correct_right_preds})\n",
    "scipy.io.savemat('LRP_Heatmaps_Matlab_Array/Ave_LRP_for_TestParticipant'+str(Test_participant_Num-64)+'_Left.mat', mdict={'Ave_LRP_map_for_Left': ave_LRP_for_correct_left_preds})"
   ]
  }
 ],
 "metadata": {
  "anaconda-cloud": {},
  "kernelspec": {
   "display_name": "Python [conda env:Brain_Decoder]",
   "language": "python",
   "name": "conda-env-Brain_Decoder-py"
  },
  "language_info": {
   "codemirror_mode": {
    "name": "ipython",
    "version": 3
   },
   "file_extension": ".py",
   "mimetype": "text/x-python",
   "name": "python",
   "nbconvert_exporter": "python",
   "pygments_lexer": "ipython3",
   "version": "3.6.4"
  }
 },
 "nbformat": 4,
 "nbformat_minor": 2
}
